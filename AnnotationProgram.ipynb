{
 "cells": [
  {
   "cell_type": "code",
   "execution_count": 9,
   "metadata": {},
   "outputs": [],
   "source": [
    "import csv \n",
    "import pandas\n",
    "dicton = {'TP':0, 'FP':0, 'FN':0,'TN':0}\n",
    "with open('/home/berendw/Downloads/Study/Scriptie/ontology/Naamloze spreadsheet - Blad1.csv') as f:\n",
    "    for x in csv.reader(f,delimiter=','):\n",
    "        # print(x[2])\n",
    "        # if x[2] == 'None':\n",
    "        #     if x[4] == 'None':\n",
    "        #         if x[5] == '1'\n",
    "    \n",
    "        if 'None' in x[2] and x[5] == '1':\n",
    "            dicton['TN'] +=1\n",
    "            # print('1')\n",
    "        # else:\n",
    "        #     print('0')\n",
    "            \n",
    "        elif 'None' in x[2] and x[5] == '0':\n",
    "            dicton['FP'] +=1\n",
    "            \n",
    "        elif 'None' in x[2] and x[5] == '0.5':\n",
    "            dicton['FP'] +=0.5\n",
    "            dicton['TN'] +=0.5\n",
    "            \n",
    "        elif 'None' not in x[2] and x[5] == '1':\n",
    "            dicton['TP'] += 1\n",
    "            \n",
    "        elif 'None' not in x[2] and 'None' in x[4] and x[5] == '0':\n",
    "            dicton['FN'] +=1\n",
    "            \n",
    "        elif 'None' not in x[2] and x[5] == '0':\n",
    "            dicton['FN'] += 0.5\n",
    "            dicton['FP'] += 0.5\n",
    "        \n",
    "        \n",
    "        elif 'None' not in x[2] and x[5] == '0.5':\n",
    "            dicton['TP'] += 0.5\n",
    "            dicton['FP'] += 0.5\n",
    "            \n",
    "        # if x[2] != 'None' and x[4] != 'None' and x[5] == '1':\n",
    "        #     dicton['TP'] +=1\n",
    "            \n",
    "        # if x[2] != 'None' and x[4] == 'None' and x[5] == '0':\n",
    "        \n",
    "        \n",
    "        #     dicton['FN'] +=1\n",
    "            \n",
    "        \n",
    "        # if x[2] == 'None' and x[5] == '0.5':\n",
    "        #     dicton['TN'] +=0.5\n",
    "        #     dicton['FP'] +=0.5\n",
    "            \n",
    "        # if x[2] != 'None' and x[5] == '0.5':\n",
    "        #     dicton['TP'] +=0.5\n",
    "        #     dicton['FP'] +=0.5\n",
    "            \n",
    "        # if x[2] != 'None' and x[4] == 'None' and x[5] == '0.5':\n",
    "        #     dicton['FN'] +=0.5\n",
    "        #     dicton['TP']\n",
    "            \n",
    "         \n",
    "# df = pandas.read_csv('/home/berendw/Downloads/Study/Scriptie/ontology/Naamloze spreadsheet - Blad1.csv')\n",
    "# df"
   ]
  },
  {
   "cell_type": "code",
   "execution_count": 10,
   "metadata": {},
   "outputs": [
    {
     "data": {
      "text/plain": [
       "{'TP': 53, 'FP': 27.5, 'FN': 32.5, 'TN': 58}"
      ]
     },
     "execution_count": 10,
     "metadata": {},
     "output_type": "execute_result"
    }
   ],
   "source": [
    "dicton"
   ]
  },
  {
   "cell_type": "code",
   "execution_count": null,
   "metadata": {},
   "outputs": [],
   "source": []
  }
 ],
 "metadata": {
  "kernelspec": {
   "display_name": "Python 3",
   "language": "python",
   "name": "python3"
  },
  "language_info": {
   "codemirror_mode": {
    "name": "ipython",
    "version": 3
   },
   "file_extension": ".py",
   "mimetype": "text/x-python",
   "name": "python",
   "nbconvert_exporter": "python",
   "pygments_lexer": "ipython3",
   "version": "3.10.6"
  },
  "orig_nbformat": 4
 },
 "nbformat": 4,
 "nbformat_minor": 2
}
